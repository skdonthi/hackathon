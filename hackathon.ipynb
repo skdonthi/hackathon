{
 "cells": [
  {
   "cell_type": "code",
   "execution_count": 3,
   "metadata": {},
   "outputs": [],
   "source": [
    "import pandas as pd"
   ]
  },
  {
   "cell_type": "code",
   "execution_count": 4,
   "metadata": {},
   "outputs": [],
   "source": [
    "df = pd.read_parquet('students_pageviews_2021-01-01.parquet.gzip', engine='pyarrow')"
   ]
  },
  {
   "cell_type": "code",
   "execution_count": 5,
   "metadata": {},
   "outputs": [
    {
     "data": {
      "text/html": [
       "<div>\n",
       "<style scoped>\n",
       "    .dataframe tbody tr th:only-of-type {\n",
       "        vertical-align: middle;\n",
       "    }\n",
       "\n",
       "    .dataframe tbody tr th {\n",
       "        vertical-align: top;\n",
       "    }\n",
       "\n",
       "    .dataframe thead th {\n",
       "        text-align: right;\n",
       "    }\n",
       "</style>\n",
       "<table border=\"1\" class=\"dataframe\">\n",
       "  <thead>\n",
       "    <tr style=\"text-align: right;\">\n",
       "      <th></th>\n",
       "      <th>user_id</th>\n",
       "      <th>publisher_id</th>\n",
       "      <th>portal_id</th>\n",
       "      <th>time_engaged_in_s</th>\n",
       "      <th>is_paywall</th>\n",
       "      <th>article_drive_id</th>\n",
       "      <th>page_view_start_local</th>\n",
       "    </tr>\n",
       "  </thead>\n",
       "  <tbody>\n",
       "    <tr>\n",
       "      <th>0</th>\n",
       "      <td>037a7b33-a2ff-48d8-994a-0d40e9a3818e</td>\n",
       "      <td>publisher_9</td>\n",
       "      <td>portal_17</td>\n",
       "      <td>0</td>\n",
       "      <td>True</td>\n",
       "      <td>0008fe636288816eba31f2b3a0eb6b1f</td>\n",
       "      <td>2021-01-01 20:14:56.077</td>\n",
       "    </tr>\n",
       "    <tr>\n",
       "      <th>1</th>\n",
       "      <td>d4702b2d-2c11-45c2-b5c6-fa3ce639a1d2</td>\n",
       "      <td>publisher_9</td>\n",
       "      <td>portal_17</td>\n",
       "      <td>0</td>\n",
       "      <td>False</td>\n",
       "      <td>003b778fef8a2e77f26b3da33df56f27</td>\n",
       "      <td>2021-01-01 19:54:45.000</td>\n",
       "    </tr>\n",
       "    <tr>\n",
       "      <th>2</th>\n",
       "      <td>d4702b2d-2c11-45c2-b5c6-fa3ce639a1d2</td>\n",
       "      <td>publisher_9</td>\n",
       "      <td>portal_17</td>\n",
       "      <td>0</td>\n",
       "      <td>False</td>\n",
       "      <td>003b778fef8a2e77f26b3da33df56f27</td>\n",
       "      <td>2021-01-01 09:53:43.506</td>\n",
       "    </tr>\n",
       "    <tr>\n",
       "      <th>3</th>\n",
       "      <td>39b51105-c3e5-4e8b-ade1-4680f7998fc1</td>\n",
       "      <td>publisher_10</td>\n",
       "      <td>portal_31</td>\n",
       "      <td>0</td>\n",
       "      <td>False</td>\n",
       "      <td>004d6a80da94111651e44b64797b6db8</td>\n",
       "      <td>2021-01-01 12:47:58.946</td>\n",
       "    </tr>\n",
       "    <tr>\n",
       "      <th>4</th>\n",
       "      <td>e2e0e78b-6d6c-46bb-8d9d-464992f45d5e</td>\n",
       "      <td>publisher_10</td>\n",
       "      <td>portal_31</td>\n",
       "      <td>0</td>\n",
       "      <td>False</td>\n",
       "      <td>004d6a80da94111651e44b64797b6db8</td>\n",
       "      <td>2021-01-01 17:29:48.745</td>\n",
       "    </tr>\n",
       "  </tbody>\n",
       "</table>\n",
       "</div>"
      ],
      "text/plain": [
       "                                user_id  publisher_id  portal_id  \\\n",
       "0  037a7b33-a2ff-48d8-994a-0d40e9a3818e   publisher_9  portal_17   \n",
       "1  d4702b2d-2c11-45c2-b5c6-fa3ce639a1d2   publisher_9  portal_17   \n",
       "2  d4702b2d-2c11-45c2-b5c6-fa3ce639a1d2   publisher_9  portal_17   \n",
       "3  39b51105-c3e5-4e8b-ade1-4680f7998fc1  publisher_10  portal_31   \n",
       "4  e2e0e78b-6d6c-46bb-8d9d-464992f45d5e  publisher_10  portal_31   \n",
       "\n",
       "   time_engaged_in_s  is_paywall                  article_drive_id  \\\n",
       "0                  0        True  0008fe636288816eba31f2b3a0eb6b1f   \n",
       "1                  0       False  003b778fef8a2e77f26b3da33df56f27   \n",
       "2                  0       False  003b778fef8a2e77f26b3da33df56f27   \n",
       "3                  0       False  004d6a80da94111651e44b64797b6db8   \n",
       "4                  0       False  004d6a80da94111651e44b64797b6db8   \n",
       "\n",
       "    page_view_start_local  \n",
       "0 2021-01-01 20:14:56.077  \n",
       "1 2021-01-01 19:54:45.000  \n",
       "2 2021-01-01 09:53:43.506  \n",
       "3 2021-01-01 12:47:58.946  \n",
       "4 2021-01-01 17:29:48.745  "
      ]
     },
     "execution_count": 5,
     "metadata": {},
     "output_type": "execute_result"
    }
   ],
   "source": [
    "df.head()"
   ]
  },
  {
   "cell_type": "code",
   "execution_count": 6,
   "metadata": {},
   "outputs": [
    {
     "data": {
      "text/plain": [
       "(398821, 7)"
      ]
     },
     "execution_count": 6,
     "metadata": {},
     "output_type": "execute_result"
    }
   ],
   "source": [
    "df.shape"
   ]
  },
  {
   "cell_type": "code",
   "execution_count": 7,
   "metadata": {},
   "outputs": [],
   "source": [
    "sa = pd.read_parquet('students_articles.parquet.gzip', engine='pyarrow')"
   ]
  },
  {
   "cell_type": "code",
   "execution_count": 8,
   "metadata": {},
   "outputs": [
    {
     "data": {
      "text/html": [
       "<div>\n",
       "<style scoped>\n",
       "    .dataframe tbody tr th:only-of-type {\n",
       "        vertical-align: middle;\n",
       "    }\n",
       "\n",
       "    .dataframe tbody tr th {\n",
       "        vertical-align: top;\n",
       "    }\n",
       "\n",
       "    .dataframe thead th {\n",
       "        text-align: right;\n",
       "    }\n",
       "</style>\n",
       "<table border=\"1\" class=\"dataframe\">\n",
       "  <thead>\n",
       "    <tr style=\"text-align: right;\">\n",
       "      <th></th>\n",
       "      <th>publisher_id</th>\n",
       "      <th>article_drive_id</th>\n",
       "      <th>article_full_text</th>\n",
       "    </tr>\n",
       "  </thead>\n",
       "  <tbody>\n",
       "    <tr>\n",
       "      <th>0</th>\n",
       "      <td>publisher_2</td>\n",
       "      <td>bae492f2fb1439c750c2068b7b03f6ee</td>\n",
       "      <td>Genussmesse\\n\\n360 Aussteller kommen zur Plaza...</td>\n",
       "    </tr>\n",
       "    <tr>\n",
       "      <th>1</th>\n",
       "      <td>publisher_8</td>\n",
       "      <td>e082fa73cca6e5ba8970490fe3f83d65</td>\n",
       "      <td>Inselleuchten – so schön war das Comeback in M...</td>\n",
       "    </tr>\n",
       "    <tr>\n",
       "      <th>2</th>\n",
       "      <td>publisher_2</td>\n",
       "      <td>0f2395f9042ab9884b16d467e160561e</td>\n",
       "      <td>\\n\\nAbschied der Pfarrerin Beate Schmidtgen\\n\\...</td>\n",
       "    </tr>\n",
       "    <tr>\n",
       "      <th>3</th>\n",
       "      <td>publisher_1</td>\n",
       "      <td>ed7a0f64d43cf0b495ed1ae8f9498dd5</td>\n",
       "      <td>Was vom Kind im Stall erzählt wird\\n\\nDie Heil...</td>\n",
       "    </tr>\n",
       "    <tr>\n",
       "      <th>4</th>\n",
       "      <td>publisher_10</td>\n",
       "      <td>14f07c438dbf9c9813a59a3c98027bd8</td>\n",
       "      <td>Mischung aus Volleyball und Tischtennis\\n\\nEx-...</td>\n",
       "    </tr>\n",
       "  </tbody>\n",
       "</table>\n",
       "</div>"
      ],
      "text/plain": [
       "   publisher_id                  article_drive_id  \\\n",
       "0   publisher_2  bae492f2fb1439c750c2068b7b03f6ee   \n",
       "1   publisher_8  e082fa73cca6e5ba8970490fe3f83d65   \n",
       "2   publisher_2  0f2395f9042ab9884b16d467e160561e   \n",
       "3   publisher_1  ed7a0f64d43cf0b495ed1ae8f9498dd5   \n",
       "4  publisher_10  14f07c438dbf9c9813a59a3c98027bd8   \n",
       "\n",
       "                                   article_full_text  \n",
       "0  Genussmesse\\n\\n360 Aussteller kommen zur Plaza...  \n",
       "1  Inselleuchten – so schön war das Comeback in M...  \n",
       "2  \\n\\nAbschied der Pfarrerin Beate Schmidtgen\\n\\...  \n",
       "3  Was vom Kind im Stall erzählt wird\\n\\nDie Heil...  \n",
       "4  Mischung aus Volleyball und Tischtennis\\n\\nEx-...  "
      ]
     },
     "execution_count": 8,
     "metadata": {},
     "output_type": "execute_result"
    }
   ],
   "source": [
    "sa.head()"
   ]
  },
  {
   "cell_type": "code",
   "execution_count": 9,
   "metadata": {},
   "outputs": [
    {
     "data": {
      "text/plain": [
       "(1306862, 3)"
      ]
     },
     "execution_count": 9,
     "metadata": {},
     "output_type": "execute_result"
    }
   ],
   "source": [
    "sa.shape"
   ]
  },
  {
   "cell_type": "code",
   "execution_count": 10,
   "metadata": {},
   "outputs": [],
   "source": [
    "url = pd.read_parquet('students_url_pieces.parquet.gzip', engine='pyarrow')"
   ]
  },
  {
   "cell_type": "code",
   "execution_count": 11,
   "metadata": {},
   "outputs": [
    {
     "data": {
      "text/plain": [
       "(3933088, 4)"
      ]
     },
     "execution_count": 11,
     "metadata": {},
     "output_type": "execute_result"
    }
   ],
   "source": [
    "url.shape"
   ]
  },
  {
   "cell_type": "code",
   "execution_count": 12,
   "metadata": {},
   "outputs": [
    {
     "data": {
      "text/html": [
       "<div>\n",
       "<style scoped>\n",
       "    .dataframe tbody tr th:only-of-type {\n",
       "        vertical-align: middle;\n",
       "    }\n",
       "\n",
       "    .dataframe tbody tr th {\n",
       "        vertical-align: top;\n",
       "    }\n",
       "\n",
       "    .dataframe thead th {\n",
       "        text-align: right;\n",
       "    }\n",
       "</style>\n",
       "<table border=\"1\" class=\"dataframe\">\n",
       "  <thead>\n",
       "    <tr style=\"text-align: right;\">\n",
       "      <th></th>\n",
       "      <th>path</th>\n",
       "      <th>url_ebene_1</th>\n",
       "      <th>url_ebene_2</th>\n",
       "      <th>url_ebene_3</th>\n",
       "    </tr>\n",
       "  </thead>\n",
       "  <tbody>\n",
       "    <tr>\n",
       "      <th>0</th>\n",
       "      <td>/$$$IWSX_INTERNAL_REQUEST$$$/command/ask_allow</td>\n",
       "      <td>url_ebene_1_2</td>\n",
       "      <td>url_ebene_2_131962</td>\n",
       "      <td>None</td>\n",
       "    </tr>\n",
       "    <tr>\n",
       "      <th>1</th>\n",
       "      <td>/%20%20party-vorschau/unser-publikum-ist-inter...</td>\n",
       "      <td>url_ebene_1_4</td>\n",
       "      <td>None</td>\n",
       "      <td>None</td>\n",
       "    </tr>\n",
       "    <tr>\n",
       "      <th>2</th>\n",
       "      <td>/%20+/-%20vorteil</td>\n",
       "      <td>url_ebene_1_5</td>\n",
       "      <td>None</td>\n",
       "      <td>None</td>\n",
       "    </tr>\n",
       "    <tr>\n",
       "      <th>3</th>\n",
       "      <td>/%20/deutschland-1/zehn-jahre-nach-dem-tod-von...</td>\n",
       "      <td>url_ebene_1_3</td>\n",
       "      <td>url_ebene_2_146688</td>\n",
       "      <td>None</td>\n",
       "    </tr>\n",
       "    <tr>\n",
       "      <th>4</th>\n",
       "      <td>/%20/herzberg</td>\n",
       "      <td>url_ebene_1_3</td>\n",
       "      <td>url_ebene_2_187303</td>\n",
       "      <td>None</td>\n",
       "    </tr>\n",
       "  </tbody>\n",
       "</table>\n",
       "</div>"
      ],
      "text/plain": [
       "                                                path    url_ebene_1  \\\n",
       "0     /$$$IWSX_INTERNAL_REQUEST$$$/command/ask_allow  url_ebene_1_2   \n",
       "1  /%20%20party-vorschau/unser-publikum-ist-inter...  url_ebene_1_4   \n",
       "2                                  /%20+/-%20vorteil  url_ebene_1_5   \n",
       "3  /%20/deutschland-1/zehn-jahre-nach-dem-tod-von...  url_ebene_1_3   \n",
       "4                                      /%20/herzberg  url_ebene_1_3   \n",
       "\n",
       "          url_ebene_2 url_ebene_3  \n",
       "0  url_ebene_2_131962        None  \n",
       "1                None        None  \n",
       "2                None        None  \n",
       "3  url_ebene_2_146688        None  \n",
       "4  url_ebene_2_187303        None  "
      ]
     },
     "execution_count": 12,
     "metadata": {},
     "output_type": "execute_result"
    }
   ],
   "source": [
    "url.head()"
   ]
  },
  {
   "cell_type": "code",
   "execution_count": null,
   "metadata": {},
   "outputs": [],
   "source": []
  }
 ],
 "metadata": {
  "kernelspec": {
   "display_name": "Python 3.10.0 64-bit",
   "language": "python",
   "name": "python3"
  },
  "language_info": {
   "codemirror_mode": {
    "name": "ipython",
    "version": 3
   },
   "file_extension": ".py",
   "mimetype": "text/x-python",
   "name": "python",
   "nbconvert_exporter": "python",
   "pygments_lexer": "ipython3",
   "version": "3.10.0"
  },
  "orig_nbformat": 4,
  "vscode": {
   "interpreter": {
    "hash": "dc40aa98bc857e6b44b78fb1f886858e51ffa17b4908ef3c7ccadfa45af47b27"
   }
  }
 },
 "nbformat": 4,
 "nbformat_minor": 2
}
